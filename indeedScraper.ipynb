{
 "cells": [
  {
   "cell_type": "markdown",
   "metadata": {},
   "source": [
    "# Job Getter\n",
    "Scrapes Indeed job postings, saves info to excel"
   ]
  },
  {
   "cell_type": "markdown",
   "metadata": {},
   "source": [
    "## Imports\n",
    "We need *requests* to get our data, *BeautifulSoup* to parse our HTML, and *selenium* to programmatically nagivate Chrome. Last, we will use *openpyxl* to save everything to an Excel file."
   ]
  },
  {
   "cell_type": "code",
   "execution_count": 63,
   "metadata": {
    "collapsed": true
   },
   "outputs": [],
   "source": [
    "import re\n",
    "import requests\n",
    "\n",
    "from selenium import webdriver\n",
    "from selenium.webdriver.common.keys import Keys\n",
    "\n",
    "from bs4 import BeautifulSoup\n",
    "from openpyxl import Workbook"
   ]
  },
  {
   "cell_type": "markdown",
   "metadata": {},
   "source": [
    "## Helper Functions"
   ]
  },
  {
   "cell_type": "code",
   "execution_count": 64,
   "metadata": {
    "collapsed": true
   },
   "outputs": [],
   "source": [
    "def clean_summary(arr):\n",
    "    \"\"\"Removes \\n char from the html elts \n",
    "    with class .summary\"\"\"\n",
    "    new_str = \"\"\n",
    "    if len(arr) <= 1:\n",
    "        clean_str = arr[0].strip('\\n').strip()                        \n",
    "        new_str += clean_str\n",
    "        return new_str\n",
    "    for s in arr:        \n",
    "        try:\n",
    "            try:\n",
    "                clean_str = s.strip('\\n').strip()                        \n",
    "                new_str += clean_str\n",
    "            except TypeError as err:\n",
    "                pass               \n",
    "        except:\n",
    "            new_str += s.contents[0].string\n",
    "    return new_str"
   ]
  },
  {
   "cell_type": "code",
   "execution_count": 65,
   "metadata": {
    "collapsed": false
   },
   "outputs": [],
   "source": [
    "def last_row_index(sheet):\n",
    "    \"\"\"receives Excel worksheet and returns an int that represents the \n",
    "    last occupied row of the first column of that sheet\"\"\" \n",
    "    try:\n",
    "        curr_cell = 0\n",
    "        for row in sheet.iter_rows(min_row=1,max_col=1):\n",
    "            for cell in row:                           \n",
    "                curr_cell = cell.row\n",
    "        return curr_cell      \n",
    "    except:\n",
    "        print(\"Invalid excel sheet\")\n",
    "        return False"
   ]
  },
  {
   "cell_type": "code",
   "execution_count": 66,
   "metadata": {
    "collapsed": true
   },
   "outputs": [],
   "source": [
    "def make_job_req(url):\n",
    "    \"\"\"Makes a req, returns False if\n",
    "    req status-code is not 200\"\"\"\n",
    "    req = requests.get(url)\n",
    "    if req.status_code != 200:\n",
    "        print(\"Invalid HTTP request from given URL\")\n",
    "        return False\n",
    "    return req"
   ]
  },
  {
   "cell_type": "code",
   "execution_count": 67,
   "metadata": {
    "collapsed": true
   },
   "outputs": [],
   "source": [
    "def make_job_divs(req):\n",
    "    \"\"\"Takes in a request object from Indeed,\n",
    "    returns divs containg job data\"\"\"\n",
    "    try:\n",
    "        soup = BeautifulSoup(req.text, 'html.parser')\n",
    "        jobs = new_soup.find_all(\"div\", class_=\"result\")\n",
    "    except:\n",
    "        print(\"Invalid request object\")\n",
    "        return False\n",
    "    \n",
    "    return jobs"
   ]
  },
  {
   "cell_type": "code",
   "execution_count": 68,
   "metadata": {
    "collapsed": true
   },
   "outputs": [],
   "source": [
    "def make_job_list(job_divs):\n",
    "    \"\"\"Converts job HTML data to a dict\"\"\"\n",
    "    job_list = []\n",
    "    for i, j in enumerate(job_divs):\n",
    "        new_job = {}\n",
    "        new_job_summary = job_divs[i].find_all('div', class_='summary')[0].contents\n",
    "        new_job['id'] = i\n",
    "        new_job['summary'] = clean_summary(new_job_summary)\n",
    "        new_job['title'] = job_divs[i].find_all('a')[0]['title']\n",
    "        new_job['link'] = 'https://indeed.com' + job_divs[0].find_all('a')[0]['href']\n",
    "\n",
    "        job_list.append(new_job)\n",
    "    \n",
    "    return job_list"
   ]
  },
  {
   "cell_type": "code",
   "execution_count": 69,
   "metadata": {
    "collapsed": false
   },
   "outputs": [],
   "source": [
    "def write_jobs(sheet, jobs, file_name):\n",
    "    \"\"\"Writes job data to an Excel file\"\"\"\n",
    "    try:\n",
    "        last_row = last_row_index(ws) + 1\n",
    "        for job in jobs:    \n",
    "            curr_col = 1\n",
    "            for val in job.values():\n",
    "                d = ws.cell(row=(job['id']+last_row), column=curr_col)\n",
    "                d.value = val        \n",
    "                curr_col+=1        \n",
    "    except:\n",
    "        return \"There was an err\"\n",
    "    \n",
    "    wb.save(file_name)\n",
    "    return True"
   ]
  },
  {
   "cell_type": "markdown",
   "metadata": {},
   "source": [
    "## Selenium"
   ]
  },
  {
   "cell_type": "markdown",
   "metadata": {},
   "source": [
    "I am using chrome, but there are other options. Check the Selenium docs."
   ]
  },
  {
   "cell_type": "code",
   "execution_count": 70,
   "metadata": {
    "collapsed": false
   },
   "outputs": [],
   "source": [
    "driver = webdriver.Chrome('./chromedriver')"
   ]
  },
  {
   "cell_type": "markdown",
   "metadata": {},
   "source": [
    "Simple test to make sure the request worked"
   ]
  },
  {
   "cell_type": "code",
   "execution_count": 71,
   "metadata": {
    "collapsed": false
   },
   "outputs": [
    {
     "data": {
      "text/plain": [
       "'Job Search | Indeed'"
      ]
     },
     "execution_count": 71,
     "metadata": {},
     "output_type": "execute_result"
    }
   ],
   "source": [
    "driver.get('https://www.indeed.com/')\n",
    "driver.title"
   ]
  },
  {
   "cell_type": "markdown",
   "metadata": {},
   "source": [
    "Send the job you want to search as a string to the `input` with `name:\"q\"` then press *RETURN* to search for jobs."
   ]
  },
  {
   "cell_type": "code",
   "execution_count": 72,
   "metadata": {
    "collapsed": true
   },
   "outputs": [],
   "source": [
    "curr_job = \"web developer\"\n",
    "\n",
    "elem = driver.find_element_by_name(\"q\")\n",
    "elem.send_keys(curr_job)\n",
    "elem.send_keys(Keys.RETURN)"
   ]
  },
  {
   "cell_type": "markdown",
   "metadata": {},
   "source": [
    "Another simple test to see the the query parameter contains our job. *Indeed* will use your location for the \"where\"."
   ]
  },
  {
   "cell_type": "code",
   "execution_count": 73,
   "metadata": {
    "collapsed": false
   },
   "outputs": [
    {
     "data": {
      "text/plain": [
       "'https://www.indeed.com/jobs?q=web+developer&l=Dumont%2C+NJ'"
      ]
     },
     "execution_count": 73,
     "metadata": {},
     "output_type": "execute_result"
    }
   ],
   "source": [
    "driver.current_url"
   ]
  },
  {
   "cell_type": "markdown",
   "metadata": {},
   "source": [
    "## Requests\n",
    "Now that we have our url, lets grab our HTML using `requests`"
   ]
  },
  {
   "cell_type": "markdown",
   "metadata": {},
   "source": [
    "Check to make sure the req was successful"
   ]
  },
  {
   "cell_type": "code",
   "execution_count": 74,
   "metadata": {
    "collapsed": false
   },
   "outputs": [
    {
     "data": {
      "text/plain": [
       "200"
      ]
     },
     "execution_count": 74,
     "metadata": {},
     "output_type": "execute_result"
    }
   ],
   "source": [
    "req_string = driver.current_url\n",
    "\n",
    "new_req = requests.get(\"https://www.indeed.com/jobs?q=web+developer&l=Dumont%2C+NJ&start=10\")\n",
    "new_req.status_code"
   ]
  },
  {
   "cell_type": "markdown",
   "metadata": {},
   "source": [
    "## BeautifulSoup\n",
    "BeautifulSoup provides an awesome API for navigating HTML. This is how we will get the content from our search results and build our data. "
   ]
  },
  {
   "cell_type": "code",
   "execution_count": 75,
   "metadata": {
    "collapsed": true
   },
   "outputs": [],
   "source": [
    "new_soup = BeautifulSoup(new_req.text, 'html.parser')"
   ]
  },
  {
   "cell_type": "code",
   "execution_count": 76,
   "metadata": {
    "collapsed": true
   },
   "outputs": [],
   "source": [
    "job_divs = new_soup.find_all(\"div\", class_=\"result\")"
   ]
  },
  {
   "cell_type": "markdown",
   "metadata": {},
   "source": [
    "Let's take a look at how many jobs we are listed"
   ]
  },
  {
   "cell_type": "code",
   "execution_count": 77,
   "metadata": {
    "collapsed": false
   },
   "outputs": [
    {
     "data": {
      "text/plain": [
       "18"
      ]
     },
     "execution_count": 77,
     "metadata": {},
     "output_type": "execute_result"
    }
   ],
   "source": [
    "len(job_divs)"
   ]
  },
  {
   "cell_type": "markdown",
   "metadata": {},
   "source": [
    "## Build the Jobs List\n",
    "Here we a building a list of jobs were each job in dictionary with the following keys:\n",
    "- id\n",
    "    - used to index the job in excel\n",
    "- summary\n",
    "    - a short summary of the job\n",
    "- title\n",
    "    - job title\n",
    "- link\n",
    "    - link to the job description"
   ]
  },
  {
   "cell_type": "code",
   "execution_count": 78,
   "metadata": {
    "collapsed": false
   },
   "outputs": [
    {
     "data": {
      "text/plain": [
       "<div class=\"jobsearch-SerpJobCard unifiedRow row result\" data-ci=\"333252521\" data-empn=\"8292458881371076\" data-jk=\"f299a53109ae3d1e\" id=\"pj_f299a53109ae3d1e\">\n",
       "<style>\n",
       ".jobcard_logo{margin:6px 0}.jobcard_logo img{width:auto;max-width:80px;max-height:30px}\n",
       "</style>\n",
       "<div class=\"title\">\n",
       "<a class=\"jobtitle turnstileLink\" data-tn-element=\"jobTitle\" href=\"/pagead/clk?mo=r&amp;ad=-6NYlbfkN0AwKv_lxr9QxZkKYQR3Tp6JPuvL6qupby2r5pYLIAGzD7VsCbadw5bOKKFYnQStTiderWv7r7DTDMKtEvImHoKmLGw_SL6tUynuqIAgBi62gRo5yP4JWUgNIcAku0S91iinxGKM78saMUam6i63m15pWfJNO97Y3D9_l3PNNlZL68A7DHLdPLYqUZms_l0qpYgdmqDHIW2bE_MhmOAOVnuGPlGN33ro3eD74qhxlDcXI3_2A7Jz02vVAoONMBYhfldjofZ6DxPHykI1-ukhxBT0qGaHbzrHwHZTh2HhTLYaynmkhxQ0GR14MiFkIphuXIWB118d6gkWDnojojsUWKj6Sj4rSPbGrfBAb8X3I03HrianWDUXFWjUYFUnVBn8O3OPRAEQfNQWCOgcfWUVEkBS6wFNkL4mEs8FCKmMRwMqtQgK3vuzsNbjYossVw32A7_-4a60WCIP57rCGn7pMKz5&amp;p=0&amp;fvj=1&amp;vjs=3\" id=\"sja0\" onclick=\"setRefineByCookie([]); sjoc('sja0', 1); convCtr('SJ'); rclk(this,jobmap[0],true,1);\" onmousedown=\"sjomd('sja0'); clk('sja0'); rclk(this,jobmap[0],1);\" rel=\"noopener nofollow\" target=\"_blank\" title=\"ReactJS Developer\">\n",
       "ReactJS <b>Developer</b></a>\n",
       "</div>\n",
       "<div class=\"sjcl\">\n",
       "<div>\n",
       "<span class=\"company\">\n",
       "Sooryen Technologies</span>\n",
       "</div>\n",
       "<div class=\"recJobLoc\" data-rc-loc=\"Rochelle Park, NJ\" id=\"recJobLoc_f299a53109ae3d1e\" style=\"display: none\"></div>\n",
       "<div class=\"location accessible-contrast-color-location\">Rochelle Park, NJ 07662</div>\n",
       "</div>\n",
       "<div class=\"salarySnippet holisticSalary\">\n",
       "<span class=\"salary no-wrap\">\n",
       "<span class=\"salaryText\">\n",
       "$60,000 - $100,000 a year</span>\n",
       "</span>\n",
       "</div>\n",
       "<table class=\"jobCardShelfContainer\"><tr class=\"jobCardShelf\"><td class=\"jobCardShelfItem\"><span class=\"iaLabel\">Easily apply</span></td><td class=\"jobCardShelfItem\"><span class=\"jobCardShelfIcon\"><svg height=\"16px\" version=\"1.1\" viewbox=\"0 0 16 16\" width=\"16px\" xmlns=\"http://www.w3.org/2000/svg\" xmlns:xlink=\"http://www.w3.org/1999/xlink\"><g fill=\"none\" fill-rule=\"evenodd\" id=\"icon/ResponsiveEmployer16px-Copy\" stroke=\"none\" stroke-width=\"1\"><rect fill=\"#085FF7\" fill-rule=\"nonzero\" height=\"16\" id=\"Rectangle-Copy-4\" rx=\"8\" width=\"16\" x=\"0\" y=\"0\"></rect><polygon fill=\"#FFFFFF\" id=\"Fill-1\" points=\"6.59966298 4 5 8.7410974 7.53346172 8.7410974 6.8668753 12 11 6.81432441 8.33293211 6.81432441 9.66610496 4\"></polygon></g></svg></span>Responsive employer</td></tr></table><div class=\"summary\">\n",
       "<ul style=\"list-style-type:circle;margin-top: 0px;margin-bottom: 0px;padding-left:20px;\"> <li style=\"margin-bottom:0px;\">Söoryen Technologies is looking for a Front-End Developer with e-Commerce.</li><li>Experience. We are looking for super-stars to work with cutting edge technologies and…</li></ul></div>\n",
       "<div class=\"jobsearch-SerpJobCard-footer\">\n",
       "<div class=\"jobsearch-SerpJobCard-footerActions\">\n",
       "<div class=\"result-link-bar-container\">\n",
       "<div class=\"result-link-bar\"><span class=\"sponsoredGray\">Sponsored</span><span class=\"result-link-bar-separator hide-sponsored-separator\">·</span><span class=\"date\">11 days ago</span><span class=\"tt_set\" id=\"tt_set_0\"><span class=\"result-link-bar-separator\">·</span><a class=\"sl resultLink save-job-link\" href=\"#\" id=\"sj_f299a53109ae3d1e\" onclick=\"changeJobState('f299a53109ae3d1e', 'save', 'linkbar', true, ''); return false;\" title=\"Save this job to my.indeed\">Save job</a></span><div class=\"edit_note_content\" id=\"editsaved2_f299a53109ae3d1e\" style=\"display:none;\"></div><script>if (!window['sj_result_f299a53109ae3d1e']) {window['sj_result_f299a53109ae3d1e'] = {};}window['sj_result_f299a53109ae3d1e']['showSource'] = false; window['sj_result_f299a53109ae3d1e']['source'] = \"Indeed\"; window['sj_result_f299a53109ae3d1e']['loggedIn'] = false; window['sj_result_f299a53109ae3d1e']['showMyJobsLinks'] = false;window['sj_result_f299a53109ae3d1e']['undoAction'] = \"unsave\";window['sj_result_f299a53109ae3d1e']['relativeJobAge'] = \"11 days ago\";window['sj_result_f299a53109ae3d1e']['jobKey'] = \"f299a53109ae3d1e\"; window['sj_result_f299a53109ae3d1e']['myIndeedAvailable'] = true; window['sj_result_f299a53109ae3d1e']['showMoreActionsLink'] = window['sj_result_f299a53109ae3d1e']['showMoreActionsLink'] || false; window['sj_result_f299a53109ae3d1e']['resultNumber'] = 0; window['sj_result_f299a53109ae3d1e']['jobStateChangedToSaved'] = false; window['sj_result_f299a53109ae3d1e']['searchState'] = \"q=web developer&amp;l=Dumont%2C+NJ&amp;start=10\"; window['sj_result_f299a53109ae3d1e']['basicPermaLink'] = \"https://www.indeed.com\"; window['sj_result_f299a53109ae3d1e']['saveJobFailed'] = false; window['sj_result_f299a53109ae3d1e']['removeJobFailed'] = false; window['sj_result_f299a53109ae3d1e']['requestPending'] = false; window['sj_result_f299a53109ae3d1e']['notesEnabled'] = false; window['sj_result_f299a53109ae3d1e']['currentPage'] = \"serp\"; window['sj_result_f299a53109ae3d1e']['sponsored'] = true;window['sj_result_f299a53109ae3d1e']['showSponsor'] = true;window['sj_result_f299a53109ae3d1e']['reportJobButtonEnabled'] = false; window['sj_result_f299a53109ae3d1e']['showMyJobsHired'] = false; window['sj_result_f299a53109ae3d1e']['showSaveForSponsored'] = true; window['sj_result_f299a53109ae3d1e']['showJobAge'] = true; window['sj_result_f299a53109ae3d1e']['showHolisticCard'] = true; window['sj_result_f299a53109ae3d1e']['showDislike'] = false; window['sj_result_f299a53109ae3d1e']['showKebab'] = false;</script></div></div>\n",
       "</div>\n",
       "</div>\n",
       "<div class=\"tab-container\">\n",
       "<div class=\"sign-in-container result-tab\"></div>\n",
       "<div class=\"tellafriend-container result-tab email_job_content\"></div>\n",
       "</div>\n",
       "</div>"
      ]
     },
     "execution_count": 78,
     "metadata": {},
     "output_type": "execute_result"
    }
   ],
   "source": [
    "job_divs[0]"
   ]
  },
  {
   "cell_type": "code",
   "execution_count": 82,
   "metadata": {
    "collapsed": false
   },
   "outputs": [
    {
     "data": {
      "text/plain": [
       "{'id': 0,\n",
       " 'link': 'https://indeed.com/pagead/clk?mo=r&ad=-6NYlbfkN0AwKv_lxr9QxZkKYQR3Tp6JPuvL6qupby2r5pYLIAGzD7VsCbadw5bOKKFYnQStTiderWv7r7DTDMKtEvImHoKmLGw_SL6tUynuqIAgBi62gRo5yP4JWUgNIcAku0S91iinxGKM78saMUam6i63m15pWfJNO97Y3D9_l3PNNlZL68A7DHLdPLYqUZms_l0qpYgdmqDHIW2bE_MhmOAOVnuGPlGN33ro3eD74qhxlDcXI3_2A7Jz02vVAoONMBYhfldjofZ6DxPHykI1-ukhxBT0qGaHbzrHwHZTh2HhTLYaynmkhxQ0GR14MiFkIphuXIWB118d6gkWDnojojsUWKj6Sj4rSPbGrfBAb8X3I03HrianWDUXFWjUYFUnVBn8O3OPRAEQfNQWCOgcfWUVEkBS6wFNkL4mEs8FCKmMRwMqtQgK3vuzsNbjYossVw32A7_-4a60WCIP57rCGn7pMKz5&p=0&fvj=1&vjs=3',\n",
       " 'summary': '',\n",
       " 'title': 'ReactJS Developer'}"
      ]
     },
     "execution_count": 82,
     "metadata": {},
     "output_type": "execute_result"
    }
   ],
   "source": [
    "new_job_list = []\n",
    "for i, job in enumerate(job_divs):\n",
    "    new_job = {}\n",
    "    new_job_summary = job.find_all('div', class_='summary')[0].contents\n",
    "    new_job['id'] = i\n",
    "    new_job['summary'] = clean_summary(new_job_summary)    \n",
    "    new_job['title'] = job.find_all('a', class_='jobtitle')[0]['title']\n",
    "    new_job['link'] = 'https://indeed.com' + job_divs[0].find_all('a')[0]['href']\n",
    "    \n",
    "    new_job_list.append(new_job)\n",
    "    \n",
    "new_job_list[0]   "
   ]
  },
  {
   "cell_type": "markdown",
   "metadata": {},
   "source": [
    "## openpyxl"
   ]
  },
  {
   "cell_type": "code",
   "execution_count": 83,
   "metadata": {
    "collapsed": true
   },
   "outputs": [],
   "source": [
    "wb = Workbook()\n",
    "ws = wb.active"
   ]
  },
  {
   "cell_type": "markdown",
   "metadata": {},
   "source": [
    "Create a sheet with the same title as the current job search term"
   ]
  },
  {
   "cell_type": "code",
   "execution_count": 84,
   "metadata": {
    "collapsed": false
   },
   "outputs": [
    {
     "data": {
      "text/plain": [
       "['web developer']"
      ]
     },
     "execution_count": 84,
     "metadata": {},
     "output_type": "execute_result"
    }
   ],
   "source": [
    "ws.title = curr_job\n",
    "wb.sheetnames"
   ]
  },
  {
   "cell_type": "code",
   "execution_count": 85,
   "metadata": {
    "collapsed": false
   },
   "outputs": [],
   "source": [
    "last_row = last_row_index(ws) +1\n",
    "for job in new_job_list:    \n",
    "    curr_col = 1\n",
    "    for val in job.values():\n",
    "        d = ws.cell(row=(job['id']+last_row), column=curr_col)\n",
    "        d.value = val        \n",
    "        curr_col+=1"
   ]
  },
  {
   "cell_type": "code",
   "execution_count": 86,
   "metadata": {
    "collapsed": false
   },
   "outputs": [],
   "source": [
    "wb.save('jobs.xlsx')"
   ]
  },
  {
   "cell_type": "markdown",
   "metadata": {
    "collapsed": true
   },
   "source": [
    "## Selenium again to get the next page"
   ]
  },
  {
   "cell_type": "code",
   "execution_count": 87,
   "metadata": {
    "collapsed": false
   },
   "outputs": [],
   "source": [
    "elem = driver.find_element_by_class_name(\"np\")\n",
    "elem.click()"
   ]
  },
  {
   "cell_type": "code",
   "execution_count": 88,
   "metadata": {
    "collapsed": false
   },
   "outputs": [
    {
     "name": "stdout",
     "output_type": "stream",
     "text": [
      "Pop up not there\n"
     ]
    }
   ],
   "source": [
    "# close pop up if it exist\n",
    "try:\n",
    "    close_pop_up = driver.find_element_by_id('popover-close-link')\n",
    "    close_pop_up.click()\n",
    "except:\n",
    "    print('Pop up not there')"
   ]
  },
  {
   "cell_type": "markdown",
   "metadata": {},
   "source": [
    "Interesting. Looks like we may not need selenium anymore after all -- we can just modify the query parameter for *start*"
   ]
  },
  {
   "cell_type": "code",
   "execution_count": 89,
   "metadata": {
    "collapsed": false
   },
   "outputs": [
    {
     "data": {
      "text/plain": [
       "'https://www.indeed.com/jobs?q=web+developer&l=Dumont%2C+NJ&start=10'"
      ]
     },
     "execution_count": 89,
     "metadata": {},
     "output_type": "execute_result"
    }
   ],
   "source": [
    "driver.current_url"
   ]
  },
  {
   "cell_type": "code",
   "execution_count": 90,
   "metadata": {
    "collapsed": false
   },
   "outputs": [],
   "source": [
    "new_req = make_job_req(driver.current_url)"
   ]
  },
  {
   "cell_type": "code",
   "execution_count": 91,
   "metadata": {
    "collapsed": false,
    "scrolled": true
   },
   "outputs": [
    {
     "data": {
      "text/plain": [
       "<div class=\"jobsearch-SerpJobCard unifiedRow row result\" data-ci=\"333252521\" data-empn=\"8292458881371076\" data-jk=\"f299a53109ae3d1e\" id=\"pj_f299a53109ae3d1e\">\n",
       "<style>\n",
       ".jobcard_logo{margin:6px 0}.jobcard_logo img{width:auto;max-width:80px;max-height:30px}\n",
       "</style>\n",
       "<div class=\"title\">\n",
       "<a class=\"jobtitle turnstileLink\" data-tn-element=\"jobTitle\" href=\"/pagead/clk?mo=r&amp;ad=-6NYlbfkN0AwKv_lxr9QxZkKYQR3Tp6JPuvL6qupby2r5pYLIAGzD7VsCbadw5bOKKFYnQStTiderWv7r7DTDMKtEvImHoKmLGw_SL6tUynuqIAgBi62gRo5yP4JWUgNIcAku0S91iinxGKM78saMUam6i63m15pWfJNO97Y3D9_l3PNNlZL68A7DHLdPLYqUZms_l0qpYgdmqDHIW2bE_MhmOAOVnuGPlGN33ro3eD74qhxlDcXI3_2A7Jz02vVAoONMBYhfldjofZ6DxPHykI1-ukhxBT0qGaHbzrHwHZTh2HhTLYaynmkhxQ0GR14MiFkIphuXIWB118d6gkWDnojojsUWKj6Sj4rSPbGrfBAb8X3I03HrianWDUXFWjUYFUnVBn8O3OPRAEQfNQWCOgcfWUVEkBS6wFNkL4mEs8FCKmMRwMqtQgK3vuzsNbjYossVw32A7_-4a60WCIP57rCGn7pMKz5&amp;p=0&amp;fvj=1&amp;vjs=3\" id=\"sja0\" onclick=\"setRefineByCookie([]); sjoc('sja0', 1); convCtr('SJ'); rclk(this,jobmap[0],true,1);\" onmousedown=\"sjomd('sja0'); clk('sja0'); rclk(this,jobmap[0],1);\" rel=\"noopener nofollow\" target=\"_blank\" title=\"ReactJS Developer\">\n",
       "ReactJS <b>Developer</b></a>\n",
       "</div>\n",
       "<div class=\"sjcl\">\n",
       "<div>\n",
       "<span class=\"company\">\n",
       "Sooryen Technologies</span>\n",
       "</div>\n",
       "<div class=\"recJobLoc\" data-rc-loc=\"Rochelle Park, NJ\" id=\"recJobLoc_f299a53109ae3d1e\" style=\"display: none\"></div>\n",
       "<div class=\"location accessible-contrast-color-location\">Rochelle Park, NJ 07662</div>\n",
       "</div>\n",
       "<div class=\"salarySnippet holisticSalary\">\n",
       "<span class=\"salary no-wrap\">\n",
       "<span class=\"salaryText\">\n",
       "$60,000 - $100,000 a year</span>\n",
       "</span>\n",
       "</div>\n",
       "<table class=\"jobCardShelfContainer\"><tr class=\"jobCardShelf\"><td class=\"jobCardShelfItem\"><span class=\"iaLabel\">Easily apply</span></td><td class=\"jobCardShelfItem\"><span class=\"jobCardShelfIcon\"><svg height=\"16px\" version=\"1.1\" viewbox=\"0 0 16 16\" width=\"16px\" xmlns=\"http://www.w3.org/2000/svg\" xmlns:xlink=\"http://www.w3.org/1999/xlink\"><g fill=\"none\" fill-rule=\"evenodd\" id=\"icon/ResponsiveEmployer16px-Copy\" stroke=\"none\" stroke-width=\"1\"><rect fill=\"#085FF7\" fill-rule=\"nonzero\" height=\"16\" id=\"Rectangle-Copy-4\" rx=\"8\" width=\"16\" x=\"0\" y=\"0\"></rect><polygon fill=\"#FFFFFF\" id=\"Fill-1\" points=\"6.59966298 4 5 8.7410974 7.53346172 8.7410974 6.8668753 12 11 6.81432441 8.33293211 6.81432441 9.66610496 4\"></polygon></g></svg></span>Responsive employer</td></tr></table><div class=\"summary\">\n",
       "<ul style=\"list-style-type:circle;margin-top: 0px;margin-bottom: 0px;padding-left:20px;\"> <li style=\"margin-bottom:0px;\">Söoryen Technologies is looking for a Front-End Developer with e-Commerce.</li><li>Experience. We are looking for super-stars to work with cutting edge technologies and…</li></ul></div>\n",
       "<div class=\"jobsearch-SerpJobCard-footer\">\n",
       "<div class=\"jobsearch-SerpJobCard-footerActions\">\n",
       "<div class=\"result-link-bar-container\">\n",
       "<div class=\"result-link-bar\"><span class=\"sponsoredGray\">Sponsored</span><span class=\"result-link-bar-separator hide-sponsored-separator\">·</span><span class=\"date\">11 days ago</span><span class=\"tt_set\" id=\"tt_set_0\"><span class=\"result-link-bar-separator\">·</span><a class=\"sl resultLink save-job-link\" href=\"#\" id=\"sj_f299a53109ae3d1e\" onclick=\"changeJobState('f299a53109ae3d1e', 'save', 'linkbar', true, ''); return false;\" title=\"Save this job to my.indeed\">Save job</a></span><div class=\"edit_note_content\" id=\"editsaved2_f299a53109ae3d1e\" style=\"display:none;\"></div><script>if (!window['sj_result_f299a53109ae3d1e']) {window['sj_result_f299a53109ae3d1e'] = {};}window['sj_result_f299a53109ae3d1e']['showSource'] = false; window['sj_result_f299a53109ae3d1e']['source'] = \"Indeed\"; window['sj_result_f299a53109ae3d1e']['loggedIn'] = false; window['sj_result_f299a53109ae3d1e']['showMyJobsLinks'] = false;window['sj_result_f299a53109ae3d1e']['undoAction'] = \"unsave\";window['sj_result_f299a53109ae3d1e']['relativeJobAge'] = \"11 days ago\";window['sj_result_f299a53109ae3d1e']['jobKey'] = \"f299a53109ae3d1e\"; window['sj_result_f299a53109ae3d1e']['myIndeedAvailable'] = true; window['sj_result_f299a53109ae3d1e']['showMoreActionsLink'] = window['sj_result_f299a53109ae3d1e']['showMoreActionsLink'] || false; window['sj_result_f299a53109ae3d1e']['resultNumber'] = 0; window['sj_result_f299a53109ae3d1e']['jobStateChangedToSaved'] = false; window['sj_result_f299a53109ae3d1e']['searchState'] = \"q=web developer&amp;l=Dumont%2C+NJ&amp;start=10\"; window['sj_result_f299a53109ae3d1e']['basicPermaLink'] = \"https://www.indeed.com\"; window['sj_result_f299a53109ae3d1e']['saveJobFailed'] = false; window['sj_result_f299a53109ae3d1e']['removeJobFailed'] = false; window['sj_result_f299a53109ae3d1e']['requestPending'] = false; window['sj_result_f299a53109ae3d1e']['notesEnabled'] = false; window['sj_result_f299a53109ae3d1e']['currentPage'] = \"serp\"; window['sj_result_f299a53109ae3d1e']['sponsored'] = true;window['sj_result_f299a53109ae3d1e']['showSponsor'] = true;window['sj_result_f299a53109ae3d1e']['reportJobButtonEnabled'] = false; window['sj_result_f299a53109ae3d1e']['showMyJobsHired'] = false; window['sj_result_f299a53109ae3d1e']['showSaveForSponsored'] = true; window['sj_result_f299a53109ae3d1e']['showJobAge'] = true; window['sj_result_f299a53109ae3d1e']['showHolisticCard'] = true; window['sj_result_f299a53109ae3d1e']['showDislike'] = false; window['sj_result_f299a53109ae3d1e']['showKebab'] = false;</script></div></div>\n",
       "</div>\n",
       "</div>\n",
       "<div class=\"tab-container\">\n",
       "<div class=\"sign-in-container result-tab\"></div>\n",
       "<div class=\"tellafriend-container result-tab email_job_content\"></div>\n",
       "</div>\n",
       "</div>"
      ]
     },
     "execution_count": 91,
     "metadata": {},
     "output_type": "execute_result"
    }
   ],
   "source": [
    "job_divs = make_job_divs(new_req)\n",
    "job_divs[0]"
   ]
  },
  {
   "cell_type": "code",
   "execution_count": 92,
   "metadata": {
    "collapsed": false
   },
   "outputs": [
    {
     "ename": "KeyError",
     "evalue": "'title'",
     "output_type": "error",
     "traceback": [
      "\u001b[0;31m---------------------------------------------------------------------------\u001b[0m",
      "\u001b[0;31mKeyError\u001b[0m                                  Traceback (most recent call last)",
      "\u001b[0;32m<ipython-input-92-7b3161f2b08c>\u001b[0m in \u001b[0;36m<module>\u001b[0;34m()\u001b[0m\n\u001b[0;32m----> 1\u001b[0;31m \u001b[0manother_job_list\u001b[0m \u001b[1;33m=\u001b[0m \u001b[0mmake_job_list\u001b[0m\u001b[1;33m(\u001b[0m\u001b[0mjob_divs\u001b[0m\u001b[1;33m)\u001b[0m\u001b[1;33m\u001b[0m\u001b[0m\n\u001b[0m",
      "\u001b[0;32m<ipython-input-68-d98ef04108d6>\u001b[0m in \u001b[0;36mmake_job_list\u001b[0;34m(job_divs)\u001b[0m\n\u001b[1;32m      7\u001b[0m         \u001b[0mnew_job\u001b[0m\u001b[1;33m[\u001b[0m\u001b[1;34m'id'\u001b[0m\u001b[1;33m]\u001b[0m \u001b[1;33m=\u001b[0m \u001b[0mi\u001b[0m\u001b[1;33m\u001b[0m\u001b[0m\n\u001b[1;32m      8\u001b[0m         \u001b[0mnew_job\u001b[0m\u001b[1;33m[\u001b[0m\u001b[1;34m'summary'\u001b[0m\u001b[1;33m]\u001b[0m \u001b[1;33m=\u001b[0m \u001b[0mclean_summary\u001b[0m\u001b[1;33m(\u001b[0m\u001b[0mnew_job_summary\u001b[0m\u001b[1;33m)\u001b[0m\u001b[1;33m\u001b[0m\u001b[0m\n\u001b[0;32m----> 9\u001b[0;31m         \u001b[0mnew_job\u001b[0m\u001b[1;33m[\u001b[0m\u001b[1;34m'title'\u001b[0m\u001b[1;33m]\u001b[0m \u001b[1;33m=\u001b[0m \u001b[0mjob_divs\u001b[0m\u001b[1;33m[\u001b[0m\u001b[0mi\u001b[0m\u001b[1;33m]\u001b[0m\u001b[1;33m.\u001b[0m\u001b[0mfind_all\u001b[0m\u001b[1;33m(\u001b[0m\u001b[1;34m'a'\u001b[0m\u001b[1;33m)\u001b[0m\u001b[1;33m[\u001b[0m\u001b[1;36m0\u001b[0m\u001b[1;33m]\u001b[0m\u001b[1;33m[\u001b[0m\u001b[1;34m'title'\u001b[0m\u001b[1;33m]\u001b[0m\u001b[1;33m\u001b[0m\u001b[0m\n\u001b[0m\u001b[1;32m     10\u001b[0m         \u001b[0mnew_job\u001b[0m\u001b[1;33m[\u001b[0m\u001b[1;34m'link'\u001b[0m\u001b[1;33m]\u001b[0m \u001b[1;33m=\u001b[0m \u001b[1;34m'https://indeed.com'\u001b[0m \u001b[1;33m+\u001b[0m \u001b[0mjob_divs\u001b[0m\u001b[1;33m[\u001b[0m\u001b[1;36m0\u001b[0m\u001b[1;33m]\u001b[0m\u001b[1;33m.\u001b[0m\u001b[0mfind_all\u001b[0m\u001b[1;33m(\u001b[0m\u001b[1;34m'a'\u001b[0m\u001b[1;33m)\u001b[0m\u001b[1;33m[\u001b[0m\u001b[1;36m0\u001b[0m\u001b[1;33m]\u001b[0m\u001b[1;33m[\u001b[0m\u001b[1;34m'href'\u001b[0m\u001b[1;33m]\u001b[0m\u001b[1;33m\u001b[0m\u001b[0m\n\u001b[1;32m     11\u001b[0m \u001b[1;33m\u001b[0m\u001b[0m\n",
      "\u001b[0;32mC:\\Users\\dacrands\\Anaconda3\\lib\\site-packages\\bs4\\element.py\u001b[0m in \u001b[0;36m__getitem__\u001b[0;34m(self, key)\u001b[0m\n\u001b[1;32m   1014\u001b[0m         \"\"\"tag[key] returns the value of the 'key' attribute for the tag,\n\u001b[1;32m   1015\u001b[0m         and throws an exception if it's not there.\"\"\"\n\u001b[0;32m-> 1016\u001b[0;31m         \u001b[1;32mreturn\u001b[0m \u001b[0mself\u001b[0m\u001b[1;33m.\u001b[0m\u001b[0mattrs\u001b[0m\u001b[1;33m[\u001b[0m\u001b[0mkey\u001b[0m\u001b[1;33m]\u001b[0m\u001b[1;33m\u001b[0m\u001b[0m\n\u001b[0m\u001b[1;32m   1017\u001b[0m \u001b[1;33m\u001b[0m\u001b[0m\n\u001b[1;32m   1018\u001b[0m     \u001b[1;32mdef\u001b[0m \u001b[0m__iter__\u001b[0m\u001b[1;33m(\u001b[0m\u001b[0mself\u001b[0m\u001b[1;33m)\u001b[0m\u001b[1;33m:\u001b[0m\u001b[1;33m\u001b[0m\u001b[0m\n",
      "\u001b[0;31mKeyError\u001b[0m: 'title'"
     ]
    }
   ],
   "source": [
    "another_job_list = make_job_list(job_divs)"
   ]
  },
  {
   "cell_type": "code",
   "execution_count": 56,
   "metadata": {
    "collapsed": false
   },
   "outputs": [
    {
     "data": {
      "text/plain": [
       "True"
      ]
     },
     "execution_count": 56,
     "metadata": {},
     "output_type": "execute_result"
    }
   ],
   "source": [
    "write_jobs(ws, jobs=another_job_list, file_name=\"jobs.xlsx\")"
   ]
  },
  {
   "cell_type": "code",
   "execution_count": 57,
   "metadata": {
    "collapsed": false
   },
   "outputs": [
    {
     "data": {
      "text/plain": [
       "[{'id': 0,\n",
       "  'link': 'https://indeed.com/pagead/clk?mo=r&ad=-6NYlbfkN0DnIQaT9_ideK20aGE-Gf5L-4mEV8Q0k7vqCcpbdP_vWWm99hxL5_fHY4xpZMP0Uhx5zsIIHC2JpM0ZxkCrbuPTXhftT08i6R8KTyzH84kb8ZTW1mFYdSyTp3t2dAwbTXA_-AAsx2CykH2HyxiFCiWdWS1f3NhKDL0fnzF6qqFEIOWnS9NPVKIl7OBxAwNYUvRpvl0TOLzLEHa24kK3X88ub5_07pNNaafkzbORsSI4vaiYcJNz2oCG-3ov0p4ZdL1uNlK_7XXdXOV6gKQOHVvk5MWLHAvHluOt2gXiCBcOjjrUdNiYX7egvyC8rFzUWThl6MHvNY_rxlAj_GLS0IQHNCT6ihfSOzInieqkDvSF5pC5HcLW2S0bE2W2xheOQP7p2A5qFHOMMb9WWtVoWAG_7pNup5wxBCpLoPfRlXjstyP8e5R0UozbgW2cGHsZXVTb0VmlDWPy5HbZAtQSpr7o_1szV9zig-iJ6jUR5dxfRHfkh6vSRFoHFSITvjZ_EwYWmBKxdgLge9pgV8D0uRd5&vjs=3&p=0&fvj=0',\n",
       "  'summary': 'Collaborate with back-enddevelopersto design and build a robust API. Michael Kors is always interested in hearing from talented, globally-minded individuals...',\n",
       "  'title': 'Front-end Developer'},\n",
       " {'id': 1,\n",
       "  'link': 'https://indeed.com/pagead/clk?mo=r&ad=-6NYlbfkN0DnIQaT9_ideK20aGE-Gf5L-4mEV8Q0k7vqCcpbdP_vWWm99hxL5_fHY4xpZMP0Uhx5zsIIHC2JpM0ZxkCrbuPTXhftT08i6R8KTyzH84kb8ZTW1mFYdSyTp3t2dAwbTXA_-AAsx2CykH2HyxiFCiWdWS1f3NhKDL0fnzF6qqFEIOWnS9NPVKIl7OBxAwNYUvRpvl0TOLzLEHa24kK3X88ub5_07pNNaafkzbORsSI4vaiYcJNz2oCG-3ov0p4ZdL1uNlK_7XXdXOV6gKQOHVvk5MWLHAvHluOt2gXiCBcOjjrUdNiYX7egvyC8rFzUWThl6MHvNY_rxlAj_GLS0IQHNCT6ihfSOzInieqkDvSF5pC5HcLW2S0bE2W2xheOQP7p2A5qFHOMMb9WWtVoWAG_7pNup5wxBCpLoPfRlXjstyP8e5R0UozbgW2cGHsZXVTb0VmlDWPy5HbZAtQSpr7o_1szV9zig-iJ6jUR5dxfRHfkh6vSRFoHFSITvjZ_EwYWmBKxdgLge9pgV8D0uRd5&vjs=3&p=0&fvj=0',\n",
       "  'summary': 'Knowledge of front-endwebapplication development using HTML, CSS, JavaScript and frameworks like Angular. TheDevelopermust be passionate about enhancing the...',\n",
       "  'title': 'Hybrid Mobile App developer'},\n",
       " {'id': 2,\n",
       "  'link': 'https://indeed.com/pagead/clk?mo=r&ad=-6NYlbfkN0DnIQaT9_ideK20aGE-Gf5L-4mEV8Q0k7vqCcpbdP_vWWm99hxL5_fHY4xpZMP0Uhx5zsIIHC2JpM0ZxkCrbuPTXhftT08i6R8KTyzH84kb8ZTW1mFYdSyTp3t2dAwbTXA_-AAsx2CykH2HyxiFCiWdWS1f3NhKDL0fnzF6qqFEIOWnS9NPVKIl7OBxAwNYUvRpvl0TOLzLEHa24kK3X88ub5_07pNNaafkzbORsSI4vaiYcJNz2oCG-3ov0p4ZdL1uNlK_7XXdXOV6gKQOHVvk5MWLHAvHluOt2gXiCBcOjjrUdNiYX7egvyC8rFzUWThl6MHvNY_rxlAj_GLS0IQHNCT6ihfSOzInieqkDvSF5pC5HcLW2S0bE2W2xheOQP7p2A5qFHOMMb9WWtVoWAG_7pNup5wxBCpLoPfRlXjstyP8e5R0UozbgW2cGHsZXVTb0VmlDWPy5HbZAtQSpr7o_1szV9zig-iJ6jUR5dxfRHfkh6vSRFoHFSITvjZ_EwYWmBKxdgLge9pgV8D0uRd5&vjs=3&p=0&fvj=0',\n",
       "  'summary': 'We are looking for an experienced JavaScriptdeveloperwho is proficient with React.js to help port existing ExtJS and Struts applications over to the React...',\n",
       "  'title': 'UI Developer'},\n",
       " {'id': 3,\n",
       "  'link': 'https://indeed.com/pagead/clk?mo=r&ad=-6NYlbfkN0DnIQaT9_ideK20aGE-Gf5L-4mEV8Q0k7vqCcpbdP_vWWm99hxL5_fHY4xpZMP0Uhx5zsIIHC2JpM0ZxkCrbuPTXhftT08i6R8KTyzH84kb8ZTW1mFYdSyTp3t2dAwbTXA_-AAsx2CykH2HyxiFCiWdWS1f3NhKDL0fnzF6qqFEIOWnS9NPVKIl7OBxAwNYUvRpvl0TOLzLEHa24kK3X88ub5_07pNNaafkzbORsSI4vaiYcJNz2oCG-3ov0p4ZdL1uNlK_7XXdXOV6gKQOHVvk5MWLHAvHluOt2gXiCBcOjjrUdNiYX7egvyC8rFzUWThl6MHvNY_rxlAj_GLS0IQHNCT6ihfSOzInieqkDvSF5pC5HcLW2S0bE2W2xheOQP7p2A5qFHOMMb9WWtVoWAG_7pNup5wxBCpLoPfRlXjstyP8e5R0UozbgW2cGHsZXVTb0VmlDWPy5HbZAtQSpr7o_1szV9zig-iJ6jUR5dxfRHfkh6vSRFoHFSITvjZ_EwYWmBKxdgLge9pgV8D0uRd5&vjs=3&p=0&fvj=0',\n",
       "  'summary': 'Experience with large databases and commercialwebsites. Review juniordeveloperscode & act as a mentor. Modeling and implementing multi-tiered applications,...',\n",
       "  'title': 'Senior Laravel / PHP Developer (LAMP)'},\n",
       " {'id': 4,\n",
       "  'link': 'https://indeed.com/pagead/clk?mo=r&ad=-6NYlbfkN0DnIQaT9_ideK20aGE-Gf5L-4mEV8Q0k7vqCcpbdP_vWWm99hxL5_fHY4xpZMP0Uhx5zsIIHC2JpM0ZxkCrbuPTXhftT08i6R8KTyzH84kb8ZTW1mFYdSyTp3t2dAwbTXA_-AAsx2CykH2HyxiFCiWdWS1f3NhKDL0fnzF6qqFEIOWnS9NPVKIl7OBxAwNYUvRpvl0TOLzLEHa24kK3X88ub5_07pNNaafkzbORsSI4vaiYcJNz2oCG-3ov0p4ZdL1uNlK_7XXdXOV6gKQOHVvk5MWLHAvHluOt2gXiCBcOjjrUdNiYX7egvyC8rFzUWThl6MHvNY_rxlAj_GLS0IQHNCT6ihfSOzInieqkDvSF5pC5HcLW2S0bE2W2xheOQP7p2A5qFHOMMb9WWtVoWAG_7pNup5wxBCpLoPfRlXjstyP8e5R0UozbgW2cGHsZXVTb0VmlDWPy5HbZAtQSpr7o_1szV9zig-iJ6jUR5dxfRHfkh6vSRFoHFSITvjZ_EwYWmBKxdgLge9pgV8D0uRd5&vjs=3&p=0&fvj=0',\n",
       "  'summary': 'E-Commerce Specialist /WebDeveloper:. Ecommerce &webdesigning:. Coding andwebdeveloping experience. Proficient inwebor graphic design....',\n",
       "  'title': 'E-Commerce Specialist / Web Developer'},\n",
       " {'id': 5,\n",
       "  'link': 'https://indeed.com/pagead/clk?mo=r&ad=-6NYlbfkN0DnIQaT9_ideK20aGE-Gf5L-4mEV8Q0k7vqCcpbdP_vWWm99hxL5_fHY4xpZMP0Uhx5zsIIHC2JpM0ZxkCrbuPTXhftT08i6R8KTyzH84kb8ZTW1mFYdSyTp3t2dAwbTXA_-AAsx2CykH2HyxiFCiWdWS1f3NhKDL0fnzF6qqFEIOWnS9NPVKIl7OBxAwNYUvRpvl0TOLzLEHa24kK3X88ub5_07pNNaafkzbORsSI4vaiYcJNz2oCG-3ov0p4ZdL1uNlK_7XXdXOV6gKQOHVvk5MWLHAvHluOt2gXiCBcOjjrUdNiYX7egvyC8rFzUWThl6MHvNY_rxlAj_GLS0IQHNCT6ihfSOzInieqkDvSF5pC5HcLW2S0bE2W2xheOQP7p2A5qFHOMMb9WWtVoWAG_7pNup5wxBCpLoPfRlXjstyP8e5R0UozbgW2cGHsZXVTb0VmlDWPy5HbZAtQSpr7o_1szV9zig-iJ6jUR5dxfRHfkh6vSRFoHFSITvjZ_EwYWmBKxdgLge9pgV8D0uRd5&vjs=3&p=0&fvj=0',\n",
       "  'summary': 'Mentor juniordevelopers. Create in-houseweband mobile applications. Expert knowledge of mobile-first responsivewebdevelopment....',\n",
       "  'title': 'Senior Front End Developer'},\n",
       " {'id': 6,\n",
       "  'link': 'https://indeed.com/pagead/clk?mo=r&ad=-6NYlbfkN0DnIQaT9_ideK20aGE-Gf5L-4mEV8Q0k7vqCcpbdP_vWWm99hxL5_fHY4xpZMP0Uhx5zsIIHC2JpM0ZxkCrbuPTXhftT08i6R8KTyzH84kb8ZTW1mFYdSyTp3t2dAwbTXA_-AAsx2CykH2HyxiFCiWdWS1f3NhKDL0fnzF6qqFEIOWnS9NPVKIl7OBxAwNYUvRpvl0TOLzLEHa24kK3X88ub5_07pNNaafkzbORsSI4vaiYcJNz2oCG-3ov0p4ZdL1uNlK_7XXdXOV6gKQOHVvk5MWLHAvHluOt2gXiCBcOjjrUdNiYX7egvyC8rFzUWThl6MHvNY_rxlAj_GLS0IQHNCT6ihfSOzInieqkDvSF5pC5HcLW2S0bE2W2xheOQP7p2A5qFHOMMb9WWtVoWAG_7pNup5wxBCpLoPfRlXjstyP8e5R0UozbgW2cGHsZXVTb0VmlDWPy5HbZAtQSpr7o_1szV9zig-iJ6jUR5dxfRHfkh6vSRFoHFSITvjZ_EwYWmBKxdgLge9pgV8D0uRd5&vjs=3&p=0&fvj=0',\n",
       "  'summary': 'Looking to add a .NETDeveloperto a very successful and growing team. Candidate should be skilled and experienced with the C# language, the .Net platform,...',\n",
       "  'title': 'Full Stack Web Developer'},\n",
       " {'id': 7,\n",
       "  'link': 'https://indeed.com/pagead/clk?mo=r&ad=-6NYlbfkN0DnIQaT9_ideK20aGE-Gf5L-4mEV8Q0k7vqCcpbdP_vWWm99hxL5_fHY4xpZMP0Uhx5zsIIHC2JpM0ZxkCrbuPTXhftT08i6R8KTyzH84kb8ZTW1mFYdSyTp3t2dAwbTXA_-AAsx2CykH2HyxiFCiWdWS1f3NhKDL0fnzF6qqFEIOWnS9NPVKIl7OBxAwNYUvRpvl0TOLzLEHa24kK3X88ub5_07pNNaafkzbORsSI4vaiYcJNz2oCG-3ov0p4ZdL1uNlK_7XXdXOV6gKQOHVvk5MWLHAvHluOt2gXiCBcOjjrUdNiYX7egvyC8rFzUWThl6MHvNY_rxlAj_GLS0IQHNCT6ihfSOzInieqkDvSF5pC5HcLW2S0bE2W2xheOQP7p2A5qFHOMMb9WWtVoWAG_7pNup5wxBCpLoPfRlXjstyP8e5R0UozbgW2cGHsZXVTb0VmlDWPy5HbZAtQSpr7o_1szV9zig-iJ6jUR5dxfRHfkh6vSRFoHFSITvjZ_EwYWmBKxdgLge9pgV8D0uRd5&vjs=3&p=0&fvj=0',\n",
       "  'summary': 'BIONOVA LAB in a NY Based Nano-Technology Lab that produces treatments using proprietary technology Please see our tech site for references: https://www...',\n",
       "  'title': 'Web Developer / IT INTERNSHIP'},\n",
       " {'id': 8,\n",
       "  'link': 'https://indeed.com/pagead/clk?mo=r&ad=-6NYlbfkN0DnIQaT9_ideK20aGE-Gf5L-4mEV8Q0k7vqCcpbdP_vWWm99hxL5_fHY4xpZMP0Uhx5zsIIHC2JpM0ZxkCrbuPTXhftT08i6R8KTyzH84kb8ZTW1mFYdSyTp3t2dAwbTXA_-AAsx2CykH2HyxiFCiWdWS1f3NhKDL0fnzF6qqFEIOWnS9NPVKIl7OBxAwNYUvRpvl0TOLzLEHa24kK3X88ub5_07pNNaafkzbORsSI4vaiYcJNz2oCG-3ov0p4ZdL1uNlK_7XXdXOV6gKQOHVvk5MWLHAvHluOt2gXiCBcOjjrUdNiYX7egvyC8rFzUWThl6MHvNY_rxlAj_GLS0IQHNCT6ihfSOzInieqkDvSF5pC5HcLW2S0bE2W2xheOQP7p2A5qFHOMMb9WWtVoWAG_7pNup5wxBCpLoPfRlXjstyP8e5R0UozbgW2cGHsZXVTb0VmlDWPy5HbZAtQSpr7o_1szV9zig-iJ6jUR5dxfRHfkh6vSRFoHFSITvjZ_EwYWmBKxdgLge9pgV8D0uRd5&vjs=3&p=0&fvj=0',\n",
       "  'summary': 'As a UI Designer/WebDeveloper, you’ll be designingwebapplications and user interfaces that will help us provide an unmatched user experience....',\n",
       "  'title': 'Front-End Developer/Designer'},\n",
       " {'id': 9,\n",
       "  'link': 'https://indeed.com/pagead/clk?mo=r&ad=-6NYlbfkN0DnIQaT9_ideK20aGE-Gf5L-4mEV8Q0k7vqCcpbdP_vWWm99hxL5_fHY4xpZMP0Uhx5zsIIHC2JpM0ZxkCrbuPTXhftT08i6R8KTyzH84kb8ZTW1mFYdSyTp3t2dAwbTXA_-AAsx2CykH2HyxiFCiWdWS1f3NhKDL0fnzF6qqFEIOWnS9NPVKIl7OBxAwNYUvRpvl0TOLzLEHa24kK3X88ub5_07pNNaafkzbORsSI4vaiYcJNz2oCG-3ov0p4ZdL1uNlK_7XXdXOV6gKQOHVvk5MWLHAvHluOt2gXiCBcOjjrUdNiYX7egvyC8rFzUWThl6MHvNY_rxlAj_GLS0IQHNCT6ihfSOzInieqkDvSF5pC5HcLW2S0bE2W2xheOQP7p2A5qFHOMMb9WWtVoWAG_7pNup5wxBCpLoPfRlXjstyP8e5R0UozbgW2cGHsZXVTb0VmlDWPy5HbZAtQSpr7o_1szV9zig-iJ6jUR5dxfRHfkh6vSRFoHFSITvjZ_EwYWmBKxdgLge9pgV8D0uRd5&vjs=3&p=0&fvj=0',\n",
       "  'summary': 'In this position, you will work with our team to solve problems and build innovativewebsolutions. TSG is looking for a buddingdeveloperwith a keen eye for...',\n",
       "  'title': 'Web Design & Front-End Development Intern - Summer 2019'},\n",
       " {'id': 10,\n",
       "  'link': 'https://indeed.com/pagead/clk?mo=r&ad=-6NYlbfkN0DnIQaT9_ideK20aGE-Gf5L-4mEV8Q0k7vqCcpbdP_vWWm99hxL5_fHY4xpZMP0Uhx5zsIIHC2JpM0ZxkCrbuPTXhftT08i6R8KTyzH84kb8ZTW1mFYdSyTp3t2dAwbTXA_-AAsx2CykH2HyxiFCiWdWS1f3NhKDL0fnzF6qqFEIOWnS9NPVKIl7OBxAwNYUvRpvl0TOLzLEHa24kK3X88ub5_07pNNaafkzbORsSI4vaiYcJNz2oCG-3ov0p4ZdL1uNlK_7XXdXOV6gKQOHVvk5MWLHAvHluOt2gXiCBcOjjrUdNiYX7egvyC8rFzUWThl6MHvNY_rxlAj_GLS0IQHNCT6ihfSOzInieqkDvSF5pC5HcLW2S0bE2W2xheOQP7p2A5qFHOMMb9WWtVoWAG_7pNup5wxBCpLoPfRlXjstyP8e5R0UozbgW2cGHsZXVTb0VmlDWPy5HbZAtQSpr7o_1szV9zig-iJ6jUR5dxfRHfkh6vSRFoHFSITvjZ_EwYWmBKxdgLge9pgV8D0uRd5&vjs=3&p=0&fvj=0',\n",
       "  'summary': 'We are looking to hire an experienced PHPWebDeveloperon the full-time basis who will work in our downtown Jersey City office, 2 minutes to the subway (15...',\n",
       "  'title': 'Junior Web Developer - PHP/MySQL/JavaScript'},\n",
       " {'id': 11,\n",
       "  'link': 'https://indeed.com/pagead/clk?mo=r&ad=-6NYlbfkN0DnIQaT9_ideK20aGE-Gf5L-4mEV8Q0k7vqCcpbdP_vWWm99hxL5_fHY4xpZMP0Uhx5zsIIHC2JpM0ZxkCrbuPTXhftT08i6R8KTyzH84kb8ZTW1mFYdSyTp3t2dAwbTXA_-AAsx2CykH2HyxiFCiWdWS1f3NhKDL0fnzF6qqFEIOWnS9NPVKIl7OBxAwNYUvRpvl0TOLzLEHa24kK3X88ub5_07pNNaafkzbORsSI4vaiYcJNz2oCG-3ov0p4ZdL1uNlK_7XXdXOV6gKQOHVvk5MWLHAvHluOt2gXiCBcOjjrUdNiYX7egvyC8rFzUWThl6MHvNY_rxlAj_GLS0IQHNCT6ihfSOzInieqkDvSF5pC5HcLW2S0bE2W2xheOQP7p2A5qFHOMMb9WWtVoWAG_7pNup5wxBCpLoPfRlXjstyP8e5R0UozbgW2cGHsZXVTb0VmlDWPy5HbZAtQSpr7o_1szV9zig-iJ6jUR5dxfRHfkh6vSRFoHFSITvjZ_EwYWmBKxdgLge9pgV8D0uRd5&vjs=3&p=0&fvj=0',\n",
       "  'summary': 'Developwebcrawlers/spiders; Work experience as a Python Developer; Building and deployingwebcrawlers for categorizing scraped page data;...',\n",
       "  'title': 'Python/ Web Developer'},\n",
       " {'id': 12,\n",
       "  'link': 'https://indeed.com/pagead/clk?mo=r&ad=-6NYlbfkN0DnIQaT9_ideK20aGE-Gf5L-4mEV8Q0k7vqCcpbdP_vWWm99hxL5_fHY4xpZMP0Uhx5zsIIHC2JpM0ZxkCrbuPTXhftT08i6R8KTyzH84kb8ZTW1mFYdSyTp3t2dAwbTXA_-AAsx2CykH2HyxiFCiWdWS1f3NhKDL0fnzF6qqFEIOWnS9NPVKIl7OBxAwNYUvRpvl0TOLzLEHa24kK3X88ub5_07pNNaafkzbORsSI4vaiYcJNz2oCG-3ov0p4ZdL1uNlK_7XXdXOV6gKQOHVvk5MWLHAvHluOt2gXiCBcOjjrUdNiYX7egvyC8rFzUWThl6MHvNY_rxlAj_GLS0IQHNCT6ihfSOzInieqkDvSF5pC5HcLW2S0bE2W2xheOQP7p2A5qFHOMMb9WWtVoWAG_7pNup5wxBCpLoPfRlXjstyP8e5R0UozbgW2cGHsZXVTb0VmlDWPy5HbZAtQSpr7o_1szV9zig-iJ6jUR5dxfRHfkh6vSRFoHFSITvjZ_EwYWmBKxdgLge9pgV8D0uRd5&vjs=3&p=0&fvj=0',\n",
       "  'summary': 'JuniorWebDeveloper. The full specification is available on ourwebsite at:. Help maintain code quality, organization, automation Assist BMCCWEBteam with...',\n",
       "  'title': 'Junior Web Develope- IT Assistant Hourly'},\n",
       " {'id': 13,\n",
       "  'link': 'https://indeed.com/pagead/clk?mo=r&ad=-6NYlbfkN0DnIQaT9_ideK20aGE-Gf5L-4mEV8Q0k7vqCcpbdP_vWWm99hxL5_fHY4xpZMP0Uhx5zsIIHC2JpM0ZxkCrbuPTXhftT08i6R8KTyzH84kb8ZTW1mFYdSyTp3t2dAwbTXA_-AAsx2CykH2HyxiFCiWdWS1f3NhKDL0fnzF6qqFEIOWnS9NPVKIl7OBxAwNYUvRpvl0TOLzLEHa24kK3X88ub5_07pNNaafkzbORsSI4vaiYcJNz2oCG-3ov0p4ZdL1uNlK_7XXdXOV6gKQOHVvk5MWLHAvHluOt2gXiCBcOjjrUdNiYX7egvyC8rFzUWThl6MHvNY_rxlAj_GLS0IQHNCT6ihfSOzInieqkDvSF5pC5HcLW2S0bE2W2xheOQP7p2A5qFHOMMb9WWtVoWAG_7pNup5wxBCpLoPfRlXjstyP8e5R0UozbgW2cGHsZXVTb0VmlDWPy5HbZAtQSpr7o_1szV9zig-iJ6jUR5dxfRHfkh6vSRFoHFSITvjZ_EwYWmBKxdgLge9pgV8D0uRd5&vjs=3&p=0&fvj=0',\n",
       "  'summary': 'Knowledge of ResponsiveWebDesign techniques. This position will be working closely with ApplicationDevelopers, ProductDevelopers, Design Lead, Project...',\n",
       "  'title': 'Front End Web Developer'},\n",
       " {'id': 14,\n",
       "  'link': 'https://indeed.com/pagead/clk?mo=r&ad=-6NYlbfkN0DnIQaT9_ideK20aGE-Gf5L-4mEV8Q0k7vqCcpbdP_vWWm99hxL5_fHY4xpZMP0Uhx5zsIIHC2JpM0ZxkCrbuPTXhftT08i6R8KTyzH84kb8ZTW1mFYdSyTp3t2dAwbTXA_-AAsx2CykH2HyxiFCiWdWS1f3NhKDL0fnzF6qqFEIOWnS9NPVKIl7OBxAwNYUvRpvl0TOLzLEHa24kK3X88ub5_07pNNaafkzbORsSI4vaiYcJNz2oCG-3ov0p4ZdL1uNlK_7XXdXOV6gKQOHVvk5MWLHAvHluOt2gXiCBcOjjrUdNiYX7egvyC8rFzUWThl6MHvNY_rxlAj_GLS0IQHNCT6ihfSOzInieqkDvSF5pC5HcLW2S0bE2W2xheOQP7p2A5qFHOMMb9WWtVoWAG_7pNup5wxBCpLoPfRlXjstyP8e5R0UozbgW2cGHsZXVTb0VmlDWPy5HbZAtQSpr7o_1szV9zig-iJ6jUR5dxfRHfkh6vSRFoHFSITvjZ_EwYWmBKxdgLge9pgV8D0uRd5&vjs=3&p=0&fvj=0',\n",
       "  'summary': 'Front End SoftwareDeveloper. Develop mobile healthcare app front end features....',\n",
       "  'title': 'Front End Software Developer'},\n",
       " {'id': 15,\n",
       "  'link': 'https://indeed.com/pagead/clk?mo=r&ad=-6NYlbfkN0DnIQaT9_ideK20aGE-Gf5L-4mEV8Q0k7vqCcpbdP_vWWm99hxL5_fHY4xpZMP0Uhx5zsIIHC2JpM0ZxkCrbuPTXhftT08i6R8KTyzH84kb8ZTW1mFYdSyTp3t2dAwbTXA_-AAsx2CykH2HyxiFCiWdWS1f3NhKDL0fnzF6qqFEIOWnS9NPVKIl7OBxAwNYUvRpvl0TOLzLEHa24kK3X88ub5_07pNNaafkzbORsSI4vaiYcJNz2oCG-3ov0p4ZdL1uNlK_7XXdXOV6gKQOHVvk5MWLHAvHluOt2gXiCBcOjjrUdNiYX7egvyC8rFzUWThl6MHvNY_rxlAj_GLS0IQHNCT6ihfSOzInieqkDvSF5pC5HcLW2S0bE2W2xheOQP7p2A5qFHOMMb9WWtVoWAG_7pNup5wxBCpLoPfRlXjstyP8e5R0UozbgW2cGHsZXVTb0VmlDWPy5HbZAtQSpr7o_1szV9zig-iJ6jUR5dxfRHfkh6vSRFoHFSITvjZ_EwYWmBKxdgLge9pgV8D0uRd5&vjs=3&p=0&fvj=0',\n",
       "  'summary': 'Experience using RESTfulwebservices andWebSockets. TheWebDevelopershould have 3+ years of software development experience....',\n",
       "  'title': 'Web Developer/Front End Engineer'},\n",
       " {'id': 16,\n",
       "  'link': 'https://indeed.com/pagead/clk?mo=r&ad=-6NYlbfkN0DnIQaT9_ideK20aGE-Gf5L-4mEV8Q0k7vqCcpbdP_vWWm99hxL5_fHY4xpZMP0Uhx5zsIIHC2JpM0ZxkCrbuPTXhftT08i6R8KTyzH84kb8ZTW1mFYdSyTp3t2dAwbTXA_-AAsx2CykH2HyxiFCiWdWS1f3NhKDL0fnzF6qqFEIOWnS9NPVKIl7OBxAwNYUvRpvl0TOLzLEHa24kK3X88ub5_07pNNaafkzbORsSI4vaiYcJNz2oCG-3ov0p4ZdL1uNlK_7XXdXOV6gKQOHVvk5MWLHAvHluOt2gXiCBcOjjrUdNiYX7egvyC8rFzUWThl6MHvNY_rxlAj_GLS0IQHNCT6ihfSOzInieqkDvSF5pC5HcLW2S0bE2W2xheOQP7p2A5qFHOMMb9WWtVoWAG_7pNup5wxBCpLoPfRlXjstyP8e5R0UozbgW2cGHsZXVTb0VmlDWPy5HbZAtQSpr7o_1szV9zig-iJ6jUR5dxfRHfkh6vSRFoHFSITvjZ_EwYWmBKxdgLge9pgV8D0uRd5&vjs=3&p=0&fvj=0',\n",
       "  'summary': \"We're looking for a couple of front-end interns to add to our ranksm to help flesh out the interface of ourwebapp, to work with the team here in our beautiful...\",\n",
       "  'title': 'Frontend Developer Internship'},\n",
       " {'id': 17,\n",
       "  'link': 'https://indeed.com/pagead/clk?mo=r&ad=-6NYlbfkN0DnIQaT9_ideK20aGE-Gf5L-4mEV8Q0k7vqCcpbdP_vWWm99hxL5_fHY4xpZMP0Uhx5zsIIHC2JpM0ZxkCrbuPTXhftT08i6R8KTyzH84kb8ZTW1mFYdSyTp3t2dAwbTXA_-AAsx2CykH2HyxiFCiWdWS1f3NhKDL0fnzF6qqFEIOWnS9NPVKIl7OBxAwNYUvRpvl0TOLzLEHa24kK3X88ub5_07pNNaafkzbORsSI4vaiYcJNz2oCG-3ov0p4ZdL1uNlK_7XXdXOV6gKQOHVvk5MWLHAvHluOt2gXiCBcOjjrUdNiYX7egvyC8rFzUWThl6MHvNY_rxlAj_GLS0IQHNCT6ihfSOzInieqkDvSF5pC5HcLW2S0bE2W2xheOQP7p2A5qFHOMMb9WWtVoWAG_7pNup5wxBCpLoPfRlXjstyP8e5R0UozbgW2cGHsZXVTb0VmlDWPy5HbZAtQSpr7o_1szV9zig-iJ6jUR5dxfRHfkh6vSRFoHFSITvjZ_EwYWmBKxdgLge9pgV8D0uRd5&vjs=3&p=0&fvj=0',\n",
       "  'summary': 'Create in-houseweband mobile applications. String knowledge of mobile-first responsivewebdevelopment. This position is for a full-time, on-site Front End...',\n",
       "  'title': 'Front End Developer'},\n",
       " {'id': 18,\n",
       "  'link': 'https://indeed.com/pagead/clk?mo=r&ad=-6NYlbfkN0DnIQaT9_ideK20aGE-Gf5L-4mEV8Q0k7vqCcpbdP_vWWm99hxL5_fHY4xpZMP0Uhx5zsIIHC2JpM0ZxkCrbuPTXhftT08i6R8KTyzH84kb8ZTW1mFYdSyTp3t2dAwbTXA_-AAsx2CykH2HyxiFCiWdWS1f3NhKDL0fnzF6qqFEIOWnS9NPVKIl7OBxAwNYUvRpvl0TOLzLEHa24kK3X88ub5_07pNNaafkzbORsSI4vaiYcJNz2oCG-3ov0p4ZdL1uNlK_7XXdXOV6gKQOHVvk5MWLHAvHluOt2gXiCBcOjjrUdNiYX7egvyC8rFzUWThl6MHvNY_rxlAj_GLS0IQHNCT6ihfSOzInieqkDvSF5pC5HcLW2S0bE2W2xheOQP7p2A5qFHOMMb9WWtVoWAG_7pNup5wxBCpLoPfRlXjstyP8e5R0UozbgW2cGHsZXVTb0VmlDWPy5HbZAtQSpr7o_1szV9zig-iJ6jUR5dxfRHfkh6vSRFoHFSITvjZ_EwYWmBKxdgLge9pgV8D0uRd5&vjs=3&p=0&fvj=0',\n",
       "  'summary': 'Knowledge of front-endwebapplication development using HTML, CSS, JavaScript and frameworks like Angular. TheDevelopermust be passionate about enhancing the...',\n",
       "  'title': 'Hybrid Mobile App Developer'}]"
      ]
     },
     "execution_count": 57,
     "metadata": {},
     "output_type": "execute_result"
    }
   ],
   "source": [
    "another_job_list"
   ]
  },
  {
   "cell_type": "code",
   "execution_count": null,
   "metadata": {
    "collapsed": true
   },
   "outputs": [],
   "source": []
  }
 ],
 "metadata": {
  "kernelspec": {
   "display_name": "Python 3",
   "language": "python",
   "name": "python3"
  },
  "language_info": {
   "codemirror_mode": {
    "name": "ipython",
    "version": 3
   },
   "file_extension": ".py",
   "mimetype": "text/x-python",
   "name": "python",
   "nbconvert_exporter": "python",
   "pygments_lexer": "ipython3",
   "version": "3.6.0"
  }
 },
 "nbformat": 4,
 "nbformat_minor": 2
}
